{
 "cells": [
  {
   "cell_type": "markdown",
   "id": "34c5c7a6",
   "metadata": {},
   "source": [
    "# Парсинг"
   ]
  },
  {
   "cell_type": "markdown",
   "id": "ede28e08",
   "metadata": {},
   "source": [
    "## Сбор текстов решений собраний акционеров"
   ]
  },
  {
   "cell_type": "markdown",
   "id": "9a53c2d6",
   "metadata": {},
   "source": [
    "Для начала импортирются все необходимые для дальнейшей работы библиотеки"
   ]
  },
  {
   "cell_type": "code",
   "execution_count": 1,
   "id": "436fe331",
   "metadata": {},
   "outputs": [],
   "source": [
    "import requests\n",
    "from bs4 import BeautifulSoup\n",
    "from tqdm.auto import tqdm\n",
    "import pandas as pd\n",
    "import time\n",
    "import numpy as np"
   ]
  },
  {
   "cell_type": "markdown",
   "id": "954be2be",
   "metadata": {},
   "source": [
    "По этому URL будет осуществляться поиск сообщений"
   ]
  },
  {
   "cell_type": "code",
   "execution_count": 42,
   "id": "shared-envelope",
   "metadata": {},
   "outputs": [],
   "source": [
    "url = \"https://e-disclosure.ru/poisk-po-soobshheniyam\""
   ]
  },
  {
   "cell_type": "markdown",
   "id": "2e59c40d",
   "metadata": {},
   "source": [
    "Непосредственно название сообщения"
   ]
  },
  {
   "cell_type": "code",
   "execution_count": 43,
   "id": "secure-gender",
   "metadata": {},
   "outputs": [],
   "source": [
    "name = 'Решения общих собраний участников (акционеров)'"
   ]
  },
  {
   "cell_type": "markdown",
   "id": "71c455d0",
   "metadata": {},
   "source": [
    "Просто так собрать сообщения о раскрытии с e-disclosure нельзя. На сайте действуют достаточно хитрые AJAX скрипты, из-за которых динамичный сайт становится невозможно спарсить одним GET запросом. При поиске решений общих собраний по данным нам датам (3 квартал 2020 года) URL всей страницы не меняется и так и остается https://e-disclosure.ru/poisk-po-soobshheniyam. Поэтому было решено парсить ответ на POST запрос, имитируя через python requests действия AJAX скрипта. Для этого требовалось осуществить такой запрос самостоятельно по указанной ссылке, зайти в DevTools, выбрать Network, поставить фильтр на XHR запросы, а затем нажать кнопку поиск (с предварительно введенными данными поиска и выбранными датами). Далее убирался фильтр количества сообщений на страницу так, чтобы все 1200 сообщений были на одной странице (сообщений по запросу больше 1200, но сайт не позволяет отразить больше). После этого брался последний POST запрос, чей ответ и был нужным кодом таблицы результатов, копировалось содержимое его payload, чтобы имитировать аналогичный запрос"
   ]
  },
  {
   "cell_type": "code",
   "execution_count": 44,
   "id": "documentary-bubble",
   "metadata": {},
   "outputs": [],
   "source": [
    "payload = 'lastPageSize: 2147483647@lastPageNumber: 1@query: @queryEvent: Решения общих собраний участников (акционеров)@eventTypeTerm: @radView: 0@dateStart: 01.07.2020@dateFinish: 30.09.2020@textfieldEvent: Решения общих собраний участников (акционеров)@radReg: FederalDistricts@districtsCheckboxGroup: -1@regionsCheckboxGroup: -1@branchClientLog: -1,1,14,21,3,2,19,6,8,15,7,16,22,18,12,10,17,20,13,11,4,5,9@branchesCheckboxGroup: -1@textfieldCompany: '"
   ]
  },
  {
   "cell_type": "markdown",
   "id": "46614161",
   "metadata": {},
   "source": [
    "Сделаем из строки словарь. В данной строке пары key: value разделены символом @. Это не изначальный вариант запроса. Таким символом мы разделяем пары, чтобы точно не было повторов, когда будем по этим символам сплитить. Если взять, например символ =, то могут быть повторы и ошибки. А символ @ в этом запросе точно не встречается"
   ]
  },
  {
   "cell_type": "code",
   "execution_count": 45,
   "id": "objective-mexican",
   "metadata": {},
   "outputs": [],
   "source": [
    "pl = {}\n",
    "for i in payload.split('@'):\n",
    "    k, v = i.split(': ')\n",
    "    pl[k] = v"
   ]
  },
  {
   "cell_type": "markdown",
   "id": "a088b394",
   "metadata": {},
   "source": [
    "Посылается POST запрос с параметрами из словаря"
   ]
  },
  {
   "cell_type": "code",
   "execution_count": 46,
   "id": "monetary-basketball",
   "metadata": {},
   "outputs": [],
   "source": [
    "res = requests.post(url, params=pl)"
   ]
  },
  {
   "cell_type": "markdown",
   "id": "64b769ae",
   "metadata": {},
   "source": [
    "Проверяется статус запроса (нас устроит ответ 200)"
   ]
  },
  {
   "cell_type": "code",
   "execution_count": 47,
   "id": "67178cbb",
   "metadata": {},
   "outputs": [
    {
     "data": {
      "text/plain": [
       "<Response [200]>"
      ]
     },
     "execution_count": 47,
     "metadata": {},
     "output_type": "execute_result"
    }
   ],
   "source": [
    "res"
   ]
  },
  {
   "cell_type": "markdown",
   "id": "d6a1ed35",
   "metadata": {},
   "source": [
    "Преобразование сырого html кода в дерево BeautifulSoup"
   ]
  },
  {
   "cell_type": "code",
   "execution_count": 48,
   "id": "altered-links",
   "metadata": {},
   "outputs": [],
   "source": [
    "tree = BeautifulSoup(res.text, 'html')"
   ]
  },
  {
   "cell_type": "markdown",
   "id": "48149c5c",
   "metadata": {},
   "source": [
    "Каждый элемент таблицы вывод содержится в теге < tr > ... </ tr >"
   ]
  },
  {
   "cell_type": "code",
   "execution_count": 50,
   "id": "serious-financing",
   "metadata": {},
   "outputs": [],
   "source": [
    "table = tree.find_all('tr')"
   ]
  },
  {
   "cell_type": "markdown",
   "id": "b671a8f9",
   "metadata": {},
   "source": [
    "Последние два элемента списка отвечают за интерфейс сайта и не содержат карточки записей"
   ]
  },
  {
   "cell_type": "code",
   "execution_count": 51,
   "id": "dramatic-teddy",
   "metadata": {},
   "outputs": [],
   "source": [
    "table = table[:-2]"
   ]
  },
  {
   "cell_type": "markdown",
   "id": "12ebbe6a",
   "metadata": {},
   "source": [
    "Должно получиться 1200 записей - это лимит для отображения по любому поисковому запросу"
   ]
  },
  {
   "cell_type": "code",
   "execution_count": 52,
   "id": "collectible-planning",
   "metadata": {},
   "outputs": [
    {
     "data": {
      "text/plain": [
       "1200"
      ]
     },
     "execution_count": 52,
     "metadata": {},
     "output_type": "execute_result"
    }
   ],
   "source": [
    "len(table)"
   ]
  },
  {
   "cell_type": "markdown",
   "id": "2274b2dc",
   "metadata": {},
   "source": [
    "Каждому элементу списка ставится в соответствие словарь с:\n",
    "- датой регистрации сообщения\n",
    "- наименованием юридического лица\n",
    "- страницей юридического лица на сайте e-disclosure\n",
    "- названием сообщения\n",
    "- ссылкой на страницу с сообщением"
   ]
  },
  {
   "cell_type": "code",
   "execution_count": 53,
   "id": "8fc01e48",
   "metadata": {},
   "outputs": [
    {
     "data": {
      "application/vnd.jupyter.widget-view+json": {
       "model_id": "e55661fc15ba43edbc78fd79d2eb6809",
       "version_major": 2,
       "version_minor": 0
      },
      "text/plain": [
       "  0%|          | 0/1200 [00:00<?, ?it/s]"
      ]
     },
     "metadata": {},
     "output_type": "display_data"
    }
   ],
   "source": [
    "events = []\n",
    "for item in tqdm(table):\n",
    "    events.append({\n",
    "        'registration_date': item.find_all('td')[0].text,\n",
    "        'entity': item.find_all('td')[1].find_all('a')[0].text,\n",
    "        'entity_page_link': item.find_all('td')[1].find_all('a')[0].get('href'),\n",
    "        'event': item.find_all('td')[1].find_all('a')[1].text,\n",
    "        'event_page_link': item.find_all('td')[1].find_all('a')[1].get('href')\n",
    "    })"
   ]
  },
  {
   "cell_type": "markdown",
   "id": "efdf0435",
   "metadata": {},
   "source": [
    "Словари преобразуются в датафрейм для удобства работы и последующего экспорта в Excel"
   ]
  },
  {
   "cell_type": "code",
   "execution_count": 57,
   "id": "24038f75",
   "metadata": {},
   "outputs": [],
   "source": [
    "data = pd.DataFrame(events)"
   ]
  },
  {
   "cell_type": "code",
   "execution_count": 58,
   "id": "84be52ae",
   "metadata": {},
   "outputs": [
    {
     "data": {
      "text/html": [
       "<div>\n",
       "<style scoped>\n",
       "    .dataframe tbody tr th:only-of-type {\n",
       "        vertical-align: middle;\n",
       "    }\n",
       "\n",
       "    .dataframe tbody tr th {\n",
       "        vertical-align: top;\n",
       "    }\n",
       "\n",
       "    .dataframe thead th {\n",
       "        text-align: right;\n",
       "    }\n",
       "</style>\n",
       "<table border=\"1\" class=\"dataframe\">\n",
       "  <thead>\n",
       "    <tr style=\"text-align: right;\">\n",
       "      <th></th>\n",
       "      <th>registration_date</th>\n",
       "      <th>entity</th>\n",
       "      <th>entity_page_link</th>\n",
       "      <th>event</th>\n",
       "      <th>event_page_link</th>\n",
       "    </tr>\n",
       "  </thead>\n",
       "  <tbody>\n",
       "    <tr>\n",
       "      <th>0</th>\n",
       "      <td>30.09.2020 19:58</td>\n",
       "      <td>ПАО \"СПБ Банк\"</td>\n",
       "      <td>https://e-disclosure.ru/portal/company.aspx?id...</td>\n",
       "      <td>Решения общих собраний участников (акционеров)</td>\n",
       "      <td>https://e-disclosure.ru/portal/event.aspx?Even...</td>\n",
       "    </tr>\n",
       "    <tr>\n",
       "      <th>1</th>\n",
       "      <td>30.09.2020 19:54</td>\n",
       "      <td>ЗАО Агрофирма \"Нива\"</td>\n",
       "      <td>https://e-disclosure.ru/portal/company.aspx?id...</td>\n",
       "      <td>Решения общих собраний участников (акционеров)</td>\n",
       "      <td>https://e-disclosure.ru/portal/event.aspx?Even...</td>\n",
       "    </tr>\n",
       "    <tr>\n",
       "      <th>2</th>\n",
       "      <td>30.09.2020 19:46</td>\n",
       "      <td>ОАО \"ДОРСТРОЙ\"</td>\n",
       "      <td>https://e-disclosure.ru/portal/company.aspx?id...</td>\n",
       "      <td>Решения общих собраний участников (акционеров)</td>\n",
       "      <td>https://e-disclosure.ru/portal/event.aspx?Even...</td>\n",
       "    </tr>\n",
       "    <tr>\n",
       "      <th>3</th>\n",
       "      <td>30.09.2020 19:24</td>\n",
       "      <td>ООО КСН «Структурные инвестиции 1»</td>\n",
       "      <td>https://e-disclosure.ru/portal/company.aspx?id...</td>\n",
       "      <td>Решения общих собраний участников (акционеров)</td>\n",
       "      <td>https://e-disclosure.ru/portal/event.aspx?Even...</td>\n",
       "    </tr>\n",
       "    <tr>\n",
       "      <th>4</th>\n",
       "      <td>30.09.2020 19:12</td>\n",
       "      <td>ОАО \"КАНАТ\"</td>\n",
       "      <td>https://e-disclosure.ru/portal/company.aspx?id...</td>\n",
       "      <td>Решения общих собраний участников (акционеров)</td>\n",
       "      <td>https://e-disclosure.ru/portal/event.aspx?Even...</td>\n",
       "    </tr>\n",
       "    <tr>\n",
       "      <th>...</th>\n",
       "      <td>...</td>\n",
       "      <td>...</td>\n",
       "      <td>...</td>\n",
       "      <td>...</td>\n",
       "      <td>...</td>\n",
       "    </tr>\n",
       "    <tr>\n",
       "      <th>1195</th>\n",
       "      <td>25.08.2020 08:07</td>\n",
       "      <td>ООО «Магистраль двух столиц»</td>\n",
       "      <td>https://e-disclosure.ru/portal/company.aspx?id...</td>\n",
       "      <td>Решения общих собраний участников (акционеров)</td>\n",
       "      <td>https://e-disclosure.ru/portal/event.aspx?Even...</td>\n",
       "    </tr>\n",
       "    <tr>\n",
       "      <th>1196</th>\n",
       "      <td>25.08.2020 08:05</td>\n",
       "      <td>ПАО \"СПБ Банк\"</td>\n",
       "      <td>https://e-disclosure.ru/portal/company.aspx?id...</td>\n",
       "      <td>Решения совета директоров (наблюдательного сов...</td>\n",
       "      <td>https://e-disclosure.ru/portal/event.aspx?Even...</td>\n",
       "    </tr>\n",
       "    <tr>\n",
       "      <th>1197</th>\n",
       "      <td>24.08.2020 19:04</td>\n",
       "      <td>ОАО \"ДОРСТРОЙ\"</td>\n",
       "      <td>https://e-disclosure.ru/portal/company.aspx?id...</td>\n",
       "      <td>Решения совета директоров (наблюдательного сов...</td>\n",
       "      <td>https://e-disclosure.ru/portal/event.aspx?Even...</td>\n",
       "    </tr>\n",
       "    <tr>\n",
       "      <th>1198</th>\n",
       "      <td>24.08.2020 19:04</td>\n",
       "      <td>ОАО \"ДОРСТРОЙ\"</td>\n",
       "      <td>https://e-disclosure.ru/portal/company.aspx?id...</td>\n",
       "      <td>Созыв общего собрания участников (акционеров)</td>\n",
       "      <td>https://e-disclosure.ru/portal/event.aspx?Even...</td>\n",
       "    </tr>\n",
       "    <tr>\n",
       "      <th>1199</th>\n",
       "      <td>24.08.2020 18:40</td>\n",
       "      <td>АО \"ИСТОК\"</td>\n",
       "      <td>https://e-disclosure.ru/portal/company.aspx?id...</td>\n",
       "      <td>Решения общих собраний участников (акционеров)</td>\n",
       "      <td>https://e-disclosure.ru/portal/event.aspx?Even...</td>\n",
       "    </tr>\n",
       "  </tbody>\n",
       "</table>\n",
       "<p>1200 rows × 5 columns</p>\n",
       "</div>"
      ],
      "text/plain": [
       "     registration_date                              entity  \\\n",
       "0     30.09.2020 19:58                      ПАО \"СПБ Банк\"   \n",
       "1     30.09.2020 19:54                ЗАО Агрофирма \"Нива\"   \n",
       "2     30.09.2020 19:46                      ОАО \"ДОРСТРОЙ\"   \n",
       "3     30.09.2020 19:24  ООО КСН «Структурные инвестиции 1»   \n",
       "4     30.09.2020 19:12                         ОАО \"КАНАТ\"   \n",
       "...                ...                                 ...   \n",
       "1195  25.08.2020 08:07        ООО «Магистраль двух столиц»   \n",
       "1196  25.08.2020 08:05                      ПАО \"СПБ Банк\"   \n",
       "1197  24.08.2020 19:04                      ОАО \"ДОРСТРОЙ\"   \n",
       "1198  24.08.2020 19:04                      ОАО \"ДОРСТРОЙ\"   \n",
       "1199  24.08.2020 18:40                          АО \"ИСТОК\"   \n",
       "\n",
       "                                       entity_page_link  \\\n",
       "0     https://e-disclosure.ru/portal/company.aspx?id...   \n",
       "1     https://e-disclosure.ru/portal/company.aspx?id...   \n",
       "2     https://e-disclosure.ru/portal/company.aspx?id...   \n",
       "3     https://e-disclosure.ru/portal/company.aspx?id...   \n",
       "4     https://e-disclosure.ru/portal/company.aspx?id...   \n",
       "...                                                 ...   \n",
       "1195  https://e-disclosure.ru/portal/company.aspx?id...   \n",
       "1196  https://e-disclosure.ru/portal/company.aspx?id...   \n",
       "1197  https://e-disclosure.ru/portal/company.aspx?id...   \n",
       "1198  https://e-disclosure.ru/portal/company.aspx?id...   \n",
       "1199  https://e-disclosure.ru/portal/company.aspx?id...   \n",
       "\n",
       "                                                  event  \\\n",
       "0        Решения общих собраний участников (акционеров)   \n",
       "1        Решения общих собраний участников (акционеров)   \n",
       "2        Решения общих собраний участников (акционеров)   \n",
       "3        Решения общих собраний участников (акционеров)   \n",
       "4        Решения общих собраний участников (акционеров)   \n",
       "...                                                 ...   \n",
       "1195     Решения общих собраний участников (акционеров)   \n",
       "1196  Решения совета директоров (наблюдательного сов...   \n",
       "1197  Решения совета директоров (наблюдательного сов...   \n",
       "1198      Созыв общего собрания участников (акционеров)   \n",
       "1199     Решения общих собраний участников (акционеров)   \n",
       "\n",
       "                                        event_page_link  \n",
       "0     https://e-disclosure.ru/portal/event.aspx?Even...  \n",
       "1     https://e-disclosure.ru/portal/event.aspx?Even...  \n",
       "2     https://e-disclosure.ru/portal/event.aspx?Even...  \n",
       "3     https://e-disclosure.ru/portal/event.aspx?Even...  \n",
       "4     https://e-disclosure.ru/portal/event.aspx?Even...  \n",
       "...                                                 ...  \n",
       "1195  https://e-disclosure.ru/portal/event.aspx?Even...  \n",
       "1196  https://e-disclosure.ru/portal/event.aspx?Even...  \n",
       "1197  https://e-disclosure.ru/portal/event.aspx?Even...  \n",
       "1198  https://e-disclosure.ru/portal/event.aspx?Even...  \n",
       "1199  https://e-disclosure.ru/portal/event.aspx?Even...  \n",
       "\n",
       "[1200 rows x 5 columns]"
      ]
     },
     "execution_count": 58,
     "metadata": {},
     "output_type": "execute_result"
    }
   ],
   "source": [
    "data"
   ]
  },
  {
   "cell_type": "markdown",
   "id": "38fdf495",
   "metadata": {},
   "source": [
    "Фильтрация только решений общих собраний участников (акционеров)"
   ]
  },
  {
   "cell_type": "code",
   "execution_count": 59,
   "id": "612efeeb",
   "metadata": {},
   "outputs": [],
   "source": [
    "df = data.copy()[data['event'] == name]"
   ]
  },
  {
   "cell_type": "code",
   "execution_count": 60,
   "id": "ba8c4602",
   "metadata": {},
   "outputs": [
    {
     "data": {
      "text/html": [
       "<div>\n",
       "<style scoped>\n",
       "    .dataframe tbody tr th:only-of-type {\n",
       "        vertical-align: middle;\n",
       "    }\n",
       "\n",
       "    .dataframe tbody tr th {\n",
       "        vertical-align: top;\n",
       "    }\n",
       "\n",
       "    .dataframe thead th {\n",
       "        text-align: right;\n",
       "    }\n",
       "</style>\n",
       "<table border=\"1\" class=\"dataframe\">\n",
       "  <thead>\n",
       "    <tr style=\"text-align: right;\">\n",
       "      <th></th>\n",
       "      <th>registration_date</th>\n",
       "      <th>entity</th>\n",
       "      <th>entity_page_link</th>\n",
       "      <th>event</th>\n",
       "      <th>event_page_link</th>\n",
       "    </tr>\n",
       "  </thead>\n",
       "  <tbody>\n",
       "    <tr>\n",
       "      <th>0</th>\n",
       "      <td>30.09.2020 19:58</td>\n",
       "      <td>ПАО \"СПБ Банк\"</td>\n",
       "      <td>https://e-disclosure.ru/portal/company.aspx?id...</td>\n",
       "      <td>Решения общих собраний участников (акционеров)</td>\n",
       "      <td>https://e-disclosure.ru/portal/event.aspx?Even...</td>\n",
       "    </tr>\n",
       "    <tr>\n",
       "      <th>1</th>\n",
       "      <td>30.09.2020 19:54</td>\n",
       "      <td>ЗАО Агрофирма \"Нива\"</td>\n",
       "      <td>https://e-disclosure.ru/portal/company.aspx?id...</td>\n",
       "      <td>Решения общих собраний участников (акционеров)</td>\n",
       "      <td>https://e-disclosure.ru/portal/event.aspx?Even...</td>\n",
       "    </tr>\n",
       "    <tr>\n",
       "      <th>2</th>\n",
       "      <td>30.09.2020 19:46</td>\n",
       "      <td>ОАО \"ДОРСТРОЙ\"</td>\n",
       "      <td>https://e-disclosure.ru/portal/company.aspx?id...</td>\n",
       "      <td>Решения общих собраний участников (акционеров)</td>\n",
       "      <td>https://e-disclosure.ru/portal/event.aspx?Even...</td>\n",
       "    </tr>\n",
       "    <tr>\n",
       "      <th>3</th>\n",
       "      <td>30.09.2020 19:24</td>\n",
       "      <td>ООО КСН «Структурные инвестиции 1»</td>\n",
       "      <td>https://e-disclosure.ru/portal/company.aspx?id...</td>\n",
       "      <td>Решения общих собраний участников (акционеров)</td>\n",
       "      <td>https://e-disclosure.ru/portal/event.aspx?Even...</td>\n",
       "    </tr>\n",
       "    <tr>\n",
       "      <th>4</th>\n",
       "      <td>30.09.2020 19:12</td>\n",
       "      <td>ОАО \"КАНАТ\"</td>\n",
       "      <td>https://e-disclosure.ru/portal/company.aspx?id...</td>\n",
       "      <td>Решения общих собраний участников (акционеров)</td>\n",
       "      <td>https://e-disclosure.ru/portal/event.aspx?Even...</td>\n",
       "    </tr>\n",
       "    <tr>\n",
       "      <th>...</th>\n",
       "      <td>...</td>\n",
       "      <td>...</td>\n",
       "      <td>...</td>\n",
       "      <td>...</td>\n",
       "      <td>...</td>\n",
       "    </tr>\n",
       "    <tr>\n",
       "      <th>1184</th>\n",
       "      <td>25.08.2020 09:34</td>\n",
       "      <td>ПАО \"ЧИФ Союзинвест\"</td>\n",
       "      <td>https://e-disclosure.ru/portal/company.aspx?id...</td>\n",
       "      <td>Решения общих собраний участников (акционеров)</td>\n",
       "      <td>https://e-disclosure.ru/portal/event.aspx?Even...</td>\n",
       "    </tr>\n",
       "    <tr>\n",
       "      <th>1185</th>\n",
       "      <td>25.08.2020 09:34</td>\n",
       "      <td>ПАО \"ЧИФ Союзинвест\"</td>\n",
       "      <td>https://e-disclosure.ru/portal/company.aspx?id...</td>\n",
       "      <td>Решения общих собраний участников (акционеров)</td>\n",
       "      <td>https://e-disclosure.ru/portal/event.aspx?Even...</td>\n",
       "    </tr>\n",
       "    <tr>\n",
       "      <th>1191</th>\n",
       "      <td>25.08.2020 08:39</td>\n",
       "      <td>АО \"ЛЗЭП\"</td>\n",
       "      <td>https://e-disclosure.ru/portal/company.aspx?id...</td>\n",
       "      <td>Решения общих собраний участников (акционеров)</td>\n",
       "      <td>https://e-disclosure.ru/portal/event.aspx?Even...</td>\n",
       "    </tr>\n",
       "    <tr>\n",
       "      <th>1195</th>\n",
       "      <td>25.08.2020 08:07</td>\n",
       "      <td>ООО «Магистраль двух столиц»</td>\n",
       "      <td>https://e-disclosure.ru/portal/company.aspx?id...</td>\n",
       "      <td>Решения общих собраний участников (акционеров)</td>\n",
       "      <td>https://e-disclosure.ru/portal/event.aspx?Even...</td>\n",
       "    </tr>\n",
       "    <tr>\n",
       "      <th>1199</th>\n",
       "      <td>24.08.2020 18:40</td>\n",
       "      <td>АО \"ИСТОК\"</td>\n",
       "      <td>https://e-disclosure.ru/portal/company.aspx?id...</td>\n",
       "      <td>Решения общих собраний участников (акционеров)</td>\n",
       "      <td>https://e-disclosure.ru/portal/event.aspx?Even...</td>\n",
       "    </tr>\n",
       "  </tbody>\n",
       "</table>\n",
       "<p>531 rows × 5 columns</p>\n",
       "</div>"
      ],
      "text/plain": [
       "     registration_date                              entity  \\\n",
       "0     30.09.2020 19:58                      ПАО \"СПБ Банк\"   \n",
       "1     30.09.2020 19:54                ЗАО Агрофирма \"Нива\"   \n",
       "2     30.09.2020 19:46                      ОАО \"ДОРСТРОЙ\"   \n",
       "3     30.09.2020 19:24  ООО КСН «Структурные инвестиции 1»   \n",
       "4     30.09.2020 19:12                         ОАО \"КАНАТ\"   \n",
       "...                ...                                 ...   \n",
       "1184  25.08.2020 09:34                ПАО \"ЧИФ Союзинвест\"   \n",
       "1185  25.08.2020 09:34                ПАО \"ЧИФ Союзинвест\"   \n",
       "1191  25.08.2020 08:39                           АО \"ЛЗЭП\"   \n",
       "1195  25.08.2020 08:07        ООО «Магистраль двух столиц»   \n",
       "1199  24.08.2020 18:40                          АО \"ИСТОК\"   \n",
       "\n",
       "                                       entity_page_link  \\\n",
       "0     https://e-disclosure.ru/portal/company.aspx?id...   \n",
       "1     https://e-disclosure.ru/portal/company.aspx?id...   \n",
       "2     https://e-disclosure.ru/portal/company.aspx?id...   \n",
       "3     https://e-disclosure.ru/portal/company.aspx?id...   \n",
       "4     https://e-disclosure.ru/portal/company.aspx?id...   \n",
       "...                                                 ...   \n",
       "1184  https://e-disclosure.ru/portal/company.aspx?id...   \n",
       "1185  https://e-disclosure.ru/portal/company.aspx?id...   \n",
       "1191  https://e-disclosure.ru/portal/company.aspx?id...   \n",
       "1195  https://e-disclosure.ru/portal/company.aspx?id...   \n",
       "1199  https://e-disclosure.ru/portal/company.aspx?id...   \n",
       "\n",
       "                                               event  \\\n",
       "0     Решения общих собраний участников (акционеров)   \n",
       "1     Решения общих собраний участников (акционеров)   \n",
       "2     Решения общих собраний участников (акционеров)   \n",
       "3     Решения общих собраний участников (акционеров)   \n",
       "4     Решения общих собраний участников (акционеров)   \n",
       "...                                              ...   \n",
       "1184  Решения общих собраний участников (акционеров)   \n",
       "1185  Решения общих собраний участников (акционеров)   \n",
       "1191  Решения общих собраний участников (акционеров)   \n",
       "1195  Решения общих собраний участников (акционеров)   \n",
       "1199  Решения общих собраний участников (акционеров)   \n",
       "\n",
       "                                        event_page_link  \n",
       "0     https://e-disclosure.ru/portal/event.aspx?Even...  \n",
       "1     https://e-disclosure.ru/portal/event.aspx?Even...  \n",
       "2     https://e-disclosure.ru/portal/event.aspx?Even...  \n",
       "3     https://e-disclosure.ru/portal/event.aspx?Even...  \n",
       "4     https://e-disclosure.ru/portal/event.aspx?Even...  \n",
       "...                                                 ...  \n",
       "1184  https://e-disclosure.ru/portal/event.aspx?Even...  \n",
       "1185  https://e-disclosure.ru/portal/event.aspx?Even...  \n",
       "1191  https://e-disclosure.ru/portal/event.aspx?Even...  \n",
       "1195  https://e-disclosure.ru/portal/event.aspx?Even...  \n",
       "1199  https://e-disclosure.ru/portal/event.aspx?Even...  \n",
       "\n",
       "[531 rows x 5 columns]"
      ]
     },
     "execution_count": 60,
     "metadata": {},
     "output_type": "execute_result"
    }
   ],
   "source": [
    "df"
   ]
  },
  {
   "cell_type": "markdown",
   "id": "af14d11d",
   "metadata": {},
   "source": [
    "Теперь для каждой записи датафрейма по ссылке сообщения необходимо достать текст сообщения, который находится в теге < div > с особым указанием на style. Занимает это порядка 20 минут"
   ]
  },
  {
   "cell_type": "code",
   "execution_count": 15,
   "id": "0164fcee",
   "metadata": {
    "scrolled": true
   },
   "outputs": [
    {
     "data": {
      "application/vnd.jupyter.widget-view+json": {
       "model_id": "2e6a496a015a4883b72c714d50c810bd",
       "version_major": 2,
       "version_minor": 0
      },
      "text/plain": [
       "  0%|          | 0/531 [00:00<?, ?it/s]"
      ]
     },
     "metadata": {},
     "output_type": "display_data"
    }
   ],
   "source": [
    "texts = []\n",
    "for link in tqdm(df['event_page_link'].values):\n",
    "    res = requests.get(link)\n",
    "    bs = BeautifulSoup(res.text, 'html')\n",
    "    text = bs.body.find_all('div', {'style': 'word-break: break-word; word-wrap: break-word; white-space: pre-wrap;'})[0].text\n",
    "    if text == '':\n",
    "        print(link)\n",
    "    texts.append(text)\n",
    "    time.sleep(1)"
   ]
  },
  {
   "cell_type": "markdown",
   "id": "82ce5e75",
   "metadata": {},
   "source": [
    "Тексты добавляются в отдельную колонку для централизованной работы именно с таблицей, а не отдельными массивами данных"
   ]
  },
  {
   "cell_type": "code",
   "execution_count": 16,
   "id": "1691d88d",
   "metadata": {},
   "outputs": [],
   "source": [
    "df['text'] = texts"
   ]
  },
  {
   "cell_type": "markdown",
   "id": "315d25c6",
   "metadata": {},
   "source": [
    "## Rule-based выделение информации из текстов"
   ]
  },
  {
   "cell_type": "markdown",
   "id": "f1821d7c",
   "metadata": {},
   "source": [
    "Требуется достать из данных:\n",
    "- Полное и сокращенное наименование эмитента\n",
    "- Адрес, ИНН, ОГРН эмитента\n",
    "- Дата и форма собрания\n",
    "- Наименование и ИНН утвержденного аудитора + тип отчетности, которую ему поручено проверять (при наличии)\n",
    "- Утвержденный состав совета директоров (при наличии)\n",
    "- Поднимался ли на собрании вопрос о выплате дивидендов и если да, то какое решение принято (3 варианта: “принято решение выплатить дивиденды”, “принято решение не выплачивать дивиденды”, “вопрос не поднимался”)"
   ]
  },
  {
   "cell_type": "markdown",
   "id": "689a9260",
   "metadata": {},
   "source": [
    "Токенизация текстов - разбиение на отдельные куски для удобства анализа и поиска сущностей"
   ]
  },
  {
   "cell_type": "code",
   "execution_count": 24,
   "id": "98566c74",
   "metadata": {},
   "outputs": [],
   "source": [
    "texts = df['text'].apply(lambda x: x.split('\\n'))"
   ]
  },
  {
   "cell_type": "markdown",
   "id": "cae539d7",
   "metadata": {},
   "source": [
    "Пусты токены очевидно не информативны, от них избавляемся"
   ]
  },
  {
   "cell_type": "code",
   "execution_count": 25,
   "id": "f85f93b6",
   "metadata": {},
   "outputs": [],
   "source": [
    "texts = texts.apply(lambda t: [i for i in t if i != ''])"
   ]
  },
  {
   "cell_type": "markdown",
   "id": "c0ce6dd3",
   "metadata": {},
   "source": [
    "Функция для обработки даты. На вход - строка, содержащая дату, на выход - дата в с=едином стиле без лишних символов"
   ]
  },
  {
   "cell_type": "code",
   "execution_count": 26,
   "id": "baa025c2",
   "metadata": {},
   "outputs": [],
   "source": [
    "def form_date(s):\n",
    "    new = s.split('года')[0]\n",
    "    new = new.split('г.')[0]\n",
    "    new = new.replace('«', '')\n",
    "    new = new.replace('»', '')\n",
    "    new = new.replace('сентября', '.09.')\n",
    "    new = new.replace('августа', '.08.')\n",
    "    new = new.replace('июля', '.07.')\n",
    "    new = new.replace(' ', '')\n",
    "    return new"
   ]
  },
  {
   "cell_type": "markdown",
   "id": "562b6197",
   "metadata": {},
   "source": [
    "Функция обработки формы собрания. Если во входных данных содержатся ключевые слова, то это - совместное присутствие. В любом ином случае - заочное голосование. Эта функция стразует от отсутствия формы собрания: если в найденных токенах есть информация про присутствие, то выводим его, если нет, что презюмируем заочное голосование, так как иных вариантов нет"
   ]
  },
  {
   "cell_type": "code",
   "execution_count": 27,
   "id": "cec469c5",
   "metadata": {},
   "outputs": [],
   "source": [
    "def form_form(f):\n",
    "    if 'Собрание' in f or 'собрание' in f or 'присутствие' in f or 'совместное' in f:\n",
    "        return 'совместное присутствие'\n",
    "    else:\n",
    "        return 'заочное голосование'"
   ]
  },
  {
   "cell_type": "markdown",
   "id": "6635025e",
   "metadata": {},
   "source": [
    "Функция для обработки списка Совета директоров. На вход получает токены с ФИО и символами, которые шли рядом. На выход - список в едином формате, но с лишними символами"
   ]
  },
  {
   "cell_type": "code",
   "execution_count": 28,
   "id": "e23cb288",
   "metadata": {},
   "outputs": [],
   "source": [
    "def form_dir(lst):\n",
    "    # пустой список - нет директоров \n",
    "    # (обрезание было достаточно широким, чтобы захватить хотя бы одно ФИО, но тут пусто)\n",
    "    if len(lst) == 0:\n",
    "        return 'вопрос не поднимался'\n",
    "    # если всего одна строка, то в ней сразу все ФИО\n",
    "    elif len(lst) == 1:\n",
    "        s = lst[0]\n",
    "        # сплит по знакам препинания\n",
    "        if s.count(',') > 0 and s.count(';') > 0:\n",
    "            new = []\n",
    "            for i in s.split(','):\n",
    "                if not s.count(';'):\n",
    "                    new.append(i)\n",
    "                else:\n",
    "                    new += i.split(';')\n",
    "            return new\n",
    "        # часто ФИО через запятую идут\n",
    "        elif s.count(',') > 0:\n",
    "            return s.split(',')\n",
    "        # реже через точку-запятую\n",
    "        elif s.count(';') > 0:\n",
    "            return s.split(';')\n",
    "        # и снова часто списком\n",
    "        elif s[0].isdigit():\n",
    "            return [s]\n",
    "        else:\n",
    "            # новый список для особого случая\n",
    "            new = []\n",
    "            # индексы для движения окном по строке\n",
    "            start_idx = 0\n",
    "            finish_idx = 0\n",
    "            for i in range(len(s) - 1):\n",
    "                # если сразу после строчной без пробела заглавная - начался другой директор\n",
    "                if s[i].islower() and s[i + 1].isupper():\n",
    "                    finish_idx = i\n",
    "                    new.append(s[start_idx:finish_idx + 1])\n",
    "                    start_idx = i + 1\n",
    "            if len(new) == 0:\n",
    "                return 'вопрос не поднимался'\n",
    "            return new\n",
    "    else:\n",
    "        # опять новый список, иначе если нет никакой информации, функция упадет с ошибкой Unbound\n",
    "        new = []\n",
    "        # одним циклом\n",
    "        for i in range(len(lst)):\n",
    "            # пустые строки не нужны\n",
    "            if lst[i].strip() == '':\n",
    "                continue\n",
    "            #  строки со служебными символами тоже\n",
    "            if lst[i].strip()[0] == '№':\n",
    "                return []\n",
    "            if '№' in lst[i]:\n",
    "                continue\n",
    "            # аудитор идет отдельно от директора, но утверждать аудитора может совет директоров\n",
    "            if 'аудит' in lst[i].strip():\n",
    "                return []\n",
    "            # если первый и третий символы разные по типу, то исключаются пункты структуры (типа 1.2)\n",
    "            if lst[i].strip()[0].isdigit() and not lst[i].strip()[2].isdigit():\n",
    "                new.append(lst[i].strip())\n",
    "                # на точке список кончается\n",
    "                if lst[i].endswith('.'):\n",
    "                    break\n",
    "            # стразовка от выхода за границы списка при взятии следующего элемента\n",
    "            try:\n",
    "                # если меняется паттерн нумерации пунктов, то один список закончился и начался другой\n",
    "                if lst[i].strip()[1] == '.' and lst[i + 1].strip()[1] != '.':\n",
    "                    return new\n",
    "                if lst[i].strip()[1] == '\\t' and lst[i + 1].strip()[1] != '\\t':\n",
    "                    return new\n",
    "                if lst[i].strip()[1] == ')' and lst[i + 1].strip()[1] != ')':\n",
    "                    return new\n",
    "                # если следующий пункт меньше предыдущего, то список кончился и продолжается другой\n",
    "                if lst[i].strip()[0].isdigit() and lst[i + 1].strip()[0].isdigit():\n",
    "                    if int(lst[i].strip()[0]) >= int(lst[i + 1].strip()[0]):\n",
    "                        return new\n",
    "            except Exception as e:\n",
    "                break\n",
    "        #  возвращаем получившийся список\n",
    "        return new"
   ]
  },
  {
   "cell_type": "markdown",
   "id": "d7eb53ae",
   "metadata": {},
   "source": [
    "Функция для унификации вида списков директоров. На вход - необработанные списки, на выход - одна строка со всеми фамилиями без лишних символов"
   ]
  },
  {
   "cell_type": "code",
   "execution_count": 29,
   "id": "421d7e37",
   "metadata": {},
   "outputs": [],
   "source": [
    "def format_dir(s):\n",
    "    # новый список для директоров\n",
    "    new = []\n",
    "    # если пришла строка а не список, то выходим\n",
    "    if s == 'вопрос не поднимался':\n",
    "        return s\n",
    "    # за один проход по списку\n",
    "    for i in range(len(s)):\n",
    "        tmp = s[i]\n",
    "        # бывают пустые строки\n",
    "        if tmp == '':\n",
    "            continue\n",
    "        #  по тире справа директор\n",
    "        if '-' in tmp:\n",
    "            tmp = tmp[tmp.index('-') + 1:].strip()\n",
    "        elif '–' in tmp:\n",
    "            tmp = tmp[tmp.index('–') + 1:].strip()\n",
    "        elif '—' in tmp:\n",
    "            tmp = tmp[tmp.index('—') + 1:].strip()\n",
    "        # если не сработало, то ищем по заглавным буквам\n",
    "        f_upper = 0\n",
    "        first_upper = 0\n",
    "        for j in range(len(tmp)):\n",
    "            if tmp[j].isupper():\n",
    "                f_upper += 1\n",
    "                if f_upper == 1:\n",
    "                    # индекс первой заглавной сохраняем, это может быть начало фамилии\n",
    "                    first_upper = j\n",
    "        # больше трех заглавных - точно не ФИО, в нем 3 заглавных, но если больше 7\n",
    "        # то вполне возможно идет список ФИО\n",
    "        if f_upper > 3 and f_upper < 7:\n",
    "            continue\n",
    "        else:\n",
    "            # если в конце буква, так и добавляем\n",
    "            if tmp[-1].isalpha():\n",
    "                new.append(tmp[first_upper:])\n",
    "            else:\n",
    "                # если нет, то обрезаем\n",
    "                new.append(tmp[first_upper:-1])\n",
    "    # вывод одной строкой, чтобы в таблице не выделялось потом\n",
    "    return ', '.join(new)"
   ]
  },
  {
   "cell_type": "markdown",
   "id": "b947a2f1",
   "metadata": {},
   "source": [
    "Функция для поиска аудиторской организации. На вход - токены с информацией об утверждении аудиторской организации, на выход - название организации, ИНН (при наличии), тип проверяемой отчетности (при наличии)"
   ]
  },
  {
   "cell_type": "code",
   "execution_count": 30,
   "id": "8869ae98",
   "metadata": {},
   "outputs": [],
   "source": [
    "def form_audit(s):\n",
    "    # инициализация переменных для вывода\n",
    "    comp = 0\n",
    "    acc = 'не указан'\n",
    "    comp_inn = 'не указан'\n",
    "    # паттерн всегда одинаков, но не расположение слов относительно друг друга\n",
    "    if 'Утвердить' in s and 'аудит' in s:\n",
    "        # если они идут слитно\n",
    "        if 'Утвердить аудитором' in s:\n",
    "            # подстрока после этой фразы\n",
    "            sub = s[s.index('Утвердить аудитором') + 19:]\n",
    "            # дальше точки аудитора не будет\n",
    "            if '.' in sub:\n",
    "                sub = sub[:sub.index('.') + 1]\n",
    "            # если точки не было, то можно по году грамматически смотреть\n",
    "            # запятая - аудитор был раньше назван\n",
    "            if 'год,' in sub:\n",
    "                sub = sub[:sub.index('год,') - 4]\n",
    "            # пробел - аудитора еще не было, был только 2020 год объявлен\n",
    "            if 'год ' in sub:\n",
    "                sub = sub[sub.index('год ') + 4: ]\n",
    "            # после двоеточия он скорее всего и будет\n",
    "            if 'год:' in sub:\n",
    "                sub = sub[sub.index('год:') + 4: ]\n",
    "            # в этой подстроке сейчас находится отчетность, она почти всегда рядом с аудитором\n",
    "            if 'отчетн' in sub:\n",
    "                #  но видов ее упоминается всего три\n",
    "                if 'бухгал' in sub:\n",
    "                    if 'финансово' in sub:\n",
    "                        acc = 'бухгалтерская (финансовая) отчетность'\n",
    "                    else:\n",
    "                        acc = 'бухгалтерская отчетность'\n",
    "                if 'консолидир' in sub:\n",
    "                    acc = 'консолидированная отчетность'\n",
    "            # сплиты по ниболее часто встречающимся началам названия аудитора\n",
    "            # если потом есть точка, то название за нее не уйдет, если нет, то до конца строки\n",
    "            if 'Общество' in sub:\n",
    "                if '.' in sub:\n",
    "                    comp = sub[sub.index('Общество'): sub.index('.')]\n",
    "                else:\n",
    "                    comp = sub[sub.index('Общество'):]\n",
    "            elif 'Акционерное' in sub:\n",
    "                if '(' in sub:\n",
    "                    # редко бывает, что не до точки, а до открывающей скобки, где может быть ИНН\n",
    "                    comp = sub[sub.index('Акционерное'): sub.index('(')]\n",
    "                elif '.' in sub:\n",
    "                    comp = sub[sub.index('Акционерное'): sub.index('.')]\n",
    "                else:\n",
    "                    comp = sub[sub.index('Акционерное'):]\n",
    "            elif 'общество' in sub:\n",
    "                if '.' in sub:\n",
    "                    comp = sub[sub.index('общество'): sub.index('.')]\n",
    "                elif '(' in sub:\n",
    "                    comp = sub[sub.index('общество'): sub.index('(')]\n",
    "                else:\n",
    "                    comp = sub[sub.index('общество'):]\n",
    "            elif 'Индивидуального' in sub:\n",
    "                if '.' in sub:\n",
    "                    comp = sub[sub.index('Индивидуального'): sub.index('.')]\n",
    "                elif '(' in sub:\n",
    "                    comp = sub[sub.index('Индивидуального'): sub.index('(')]\n",
    "                else:\n",
    "                    comp = sub[sub.index('Индивидуального'):]\n",
    "            elif 'ООО' in sub:\n",
    "                if '.' in sub:\n",
    "                    comp = sub[sub.index('ООО'): sub.index('.')]\n",
    "                else:\n",
    "                    comp = sub[sub.index('ООО'):]\n",
    "            elif 'Компания' in sub:\n",
    "                if '.' in sub:\n",
    "                    comp = sub[sub.index('Компания'): sub.index('.')]\n",
    "                else:\n",
    "                    comp = sub[sub.index('Компания'):]\n",
    "            elif 'ПАО' in sub:\n",
    "                if '.' in sub:\n",
    "                    comp = sub[sub.index('ПАО'): sub.index('.')]\n",
    "                else:\n",
    "                    comp = sub[sub.index('ПАО'):]\n",
    "            elif 'ЗАО' in sub:\n",
    "                if '.' in sub:\n",
    "                    comp = sub[sub.index('ЗАО'): sub.index('.')]\n",
    "                else:\n",
    "                    comp = sub[sub.index('ЗАО'):]\n",
    "            elif 'ОАО' in sub:\n",
    "                if '.' in sub:\n",
    "                    comp = sub[sub.index('ОАО'): sub.index('.')]\n",
    "                else:\n",
    "                    comp = sub[sub.index('ОАО'):]\n",
    "            elif 'АИКЦ' in sub:\n",
    "                if '.' in sub:\n",
    "                    comp = sub[sub.index('АИКЦ'): sub.index('.')]\n",
    "                else:\n",
    "                    comp = sub[sub.index('АИКЦ'):]\n",
    "            elif 'ИП' in sub:\n",
    "                if '.' in sub:\n",
    "                    comp = sub[sub.index('ИП'): sub.index('.')]\n",
    "                else:\n",
    "                    comp = sub[sub.index('ИП'):]\n",
    "            elif 'Аудиторскую' in sub:\n",
    "                if '.' in sub:\n",
    "                    comp = sub[sub.index('Аудиторскую'): sub.index('.')]\n",
    "                else:\n",
    "                    comp = sub[sub.index('Аудиторскую'):]\n",
    "            # если аудитор все еще не найден, то сплит по знакам препинания, с особым вниманием к кавычкам\n",
    "            elif '–' in sub and ('»' not in sub and sub.count('\"') > 1):\n",
    "                comp = sub.split('–')[-1].split('.')[0]\n",
    "            elif '-' in sub and ('»' not in sub and sub.count('\"') > 1):\n",
    "                comp = sub.split('-')[-1].split('.')[0]\n",
    "            elif '—' in sub and ('»' not in sub and sub.count('\"') > 1):\n",
    "                comp = sub.split('—')[-1].split('.')[0]\n",
    "            # если нашли аудитора, то дальше обрабатываем, чтобы убрать лишние символы\n",
    "            if isinstance(comp, str):\n",
    "                # знаки препинания в конце\n",
    "                if comp[-1] == ';':\n",
    "                    comp = comp[:-1]\n",
    "                elif ',' in comp:\n",
    "                    comp = comp.split(',')[0]\n",
    "                # в кобочках может быть ИНН, или просто рядом - справа обычно\n",
    "                if 'ИНН' in comp:\n",
    "                    strt = comp.index('ИНН')\n",
    "                    fnsh = len(comp)\n",
    "                    rng = fnsh - strt\n",
    "                    comp_inn = []\n",
    "                    for i in range(rng):\n",
    "                        char = comp[strt + i]\n",
    "                        # нашли первую цифру ИНН\n",
    "                        if char.isdigit():\n",
    "                            bg = strt + i\n",
    "                            # циклом пока цифры не закончатся\n",
    "                            while char.isdigit() and bg < fnsh:\n",
    "                                comp_inn.append(char)\n",
    "                                try:\n",
    "                                    bg += 1\n",
    "                                    char = comp[bg]\n",
    "                                except Exception as e:\n",
    "                                    break\n",
    "                            break\n",
    "                    comp_inn = ''.join(comp_inn)\n",
    "                # с кавычками все сложно, надо по ним обрезать, если раньше не обрезалось\n",
    "                if '»' in comp:\n",
    "                    comp = comp[:comp.index('»') + 1]\n",
    "                if '«' in comp and comp.count('\"') == 1:\n",
    "                    comp = comp[: comp.index('\"') + 1]\n",
    "                if comp.count('\"') > 1:\n",
    "                    comp = ' \"'.join(comp.split('\"')[:2]) + '\"'\n",
    "\n",
    "        else:\n",
    "            # буквально в паре случаев аудитор назодится между этими словами, надо про это не забыть\n",
    "            if 'Общество' in s[s.index('Утвердить '): s.index('аудит')]:\n",
    "                comp = s[s.index('Утвердить '): s.index('аудит')]\n",
    "        # у одной фирмы в названии 32 пробела, что выглядит не эстетично\n",
    "        if isinstance(comp, str) and '                                ' in comp:\n",
    "            comp = comp.replace('                                ', ' ')\n",
    "    # возвращаем результаты\n",
    "    return comp, comp_inn, acc"
   ]
  },
  {
   "cell_type": "markdown",
   "id": "5cec6ec0",
   "metadata": {},
   "source": [
    "Функция для получения атрибута из токена сплитом по определенному слову. На вход - список токенов, номер текущего токена, его содержание, токен для сплита и дополнительный параметр для сплита по дефису (трем его вариантам)"
   ]
  },
  {
   "cell_type": "code",
   "execution_count": 31,
   "id": "ac24eabd",
   "metadata": {},
   "outputs": [],
   "source": [
    "def get_name(s, i, lst, txt='эмитента', allow_split=False):\n",
    "    # если нужного токена нет, то сплита не будет\n",
    "    if txt in s:\n",
    "        # сам сплит\n",
    "        name = s.split(txt)[-1]\n",
    "        # если строка заканчивается, значит нужная сущность в следующей строке\n",
    "        if name == '' or name == '.' or name == '(если применимо)' or name == ':':\n",
    "            name = lst[i + 1].strip()\n",
    "    else:\n",
    "        # нет токена - ошибка, чтобы не мухлевать с фейковыми разбиениями\n",
    "        raise ValueError()\n",
    "    # иногда нужно разбивать по трем видам тире (все встречаются в текстах)\n",
    "    if allow_split:\n",
    "        if '–' in name:\n",
    "            name = name.split('–')[-1]\n",
    "        elif '-' in name:\n",
    "            name = name.split('-')[-1]\n",
    "        elif '—' in name:\n",
    "            name = name.split('—')[-1]\n",
    "    # дефолтные сплиты\n",
    "    if ':' in name:\n",
    "        name = name.split(':')[-1]\n",
    "    elif '\\t' in name:\n",
    "        name = name.split('\\t')[-1]\n",
    "    else:\n",
    "        # иногда вместо табуляции идут просто 4 пробела\n",
    "        name = name.split('   ')[-1]\n",
    "    # добавочный сплит по дефису\n",
    "    if name.strip().startswith('-') or name.strip().startswith('–'):\n",
    "        name = name.strip()[1:]\n",
    "    # вывод без пробелов по сторонам\n",
    "    return name.strip()"
   ]
  },
  {
   "cell_type": "markdown",
   "id": "45e946e1",
   "metadata": {},
   "source": [
    "Функция для создания карточек сообщений. На вход - список токенов сообщения, далее отыскиваются наиболее подходящие под конкретные сущности или факты токены и инициализируются специальные функции из числа вышереализованных. На выход - словарь-карточка сообщения о раскрытии"
   ]
  },
  {
   "cell_type": "code",
   "execution_count": 32,
   "id": "fecea9c4",
   "metadata": {},
   "outputs": [],
   "source": [
    "def process(lst, tmp):\n",
    "    # флаги сущностей, если флаг поднят - больше искать не нужно\n",
    "    f_name, s_name = False, False\n",
    "    ad, e_ogrn, e_inn = False, False, False\n",
    "    dt, fm = False, False\n",
    "    e_dir, s_dir, f_dir = False, False, False\n",
    "    list_dir = []\n",
    "    e_div, div_status = False, None\n",
    "    e_audit, audit_status = False, None\n",
    "    # поиск всей информации за один проход по массиву, иначе будет просадка в скорости\n",
    "    for i in range(len(lst)):\n",
    "        # пробелы слева и справа не нужны\n",
    "        s = lst[i].strip()\n",
    "        # в пункте 1.1 полное наименование\n",
    "        if s.startswith('1.1') and not f_name:\n",
    "            full = get_name(s, i, lst)\n",
    "            f_name = True\n",
    "        # в 1.2 - сокращенное\n",
    "        if s.startswith('1.2') and not s_name:\n",
    "            short = get_name(s, i, lst)\n",
    "            s_name = True\n",
    "        # в 1.3 - адрес\n",
    "        if (s.startswith('1.3') or s.startswith('1 3')) and not ad:\n",
    "            address = get_name(s, i, lst)\n",
    "            ad = True\n",
    "        # в 1.4 - ОГРН\n",
    "        if s.startswith('1.4') and not e_ogrn:\n",
    "            ogrn = get_name(s, i, lst)\n",
    "            e_ogrn = True\n",
    "        # в 1.5 - ИНН\n",
    "        if s.startswith('1.5') and not e_inn:\n",
    "            inn = get_name(s, i, lst)\n",
    "            e_inn = True\n",
    "        # пункт 1.8 может содержать информацию про дату собрания, а может и вовсе отсутствовать\n",
    "        if s.startswith('1.8') and (not dt):\n",
    "            # выделение нужного токена\n",
    "            if 'сообщение' in s:\n",
    "                date = get_name(s, i, lst, txt='сообщение')\n",
    "                # эта фраза идет в конце строки, после нее даты точно нет, а вот в следующей строке - есть\n",
    "                if date == '(если применимо)':\n",
    "                    date = lst[i + 1]\n",
    "                dt = True\n",
    "        # если в 1.8 было пусто, то переход во вторучю часть и поиск по смыслу\n",
    "        if (s.startswith('Дата ') or 'Дата ' in s) and ('проведения' in s or 'появления' in s) and not dt and s.count(':') < 2:\n",
    "            # эвристика по входным данным\n",
    "            if 'проведения' in s:\n",
    "                date = get_name(s, i, lst, txt='собрания')\n",
    "            elif 'появления' in s:\n",
    "                date = get_name(s, i, lst, txt='события')\n",
    "            dt = True\n",
    "        # пункт 2.3 (при его наличии) также содержит дату собрания\n",
    "        if s.startswith('2.3') and not dt and s.count(':') > 1:\n",
    "            # а также больше одного символа \":\"\n",
    "            sub = s.replace(':', '@').replace('@', ':', 1)\n",
    "            date = get_name(sub, i, lst)\n",
    "            dt = True\n",
    "        # аналогично, но для 1 \":\"\n",
    "        if s.strip().startswith('Дата,') and 'собрания' in s and not dt:\n",
    "            sub = s.replace(':', '@').replace('@', ':', 1)\n",
    "            date = get_name(sub, i, lst)\n",
    "            dt = True\n",
    "        # форма собрания может быть в одной строке, может быть в следующей после объявления, а может и через одну\n",
    "        if ('Форма' in s or 'форма' in s) and 'проведения' in s and 'эмитента' in s and ':' in s and not fm:\n",
    "            form = get_name(s, i, lst)\n",
    "            fm = True\n",
    "        # иногда форма отделяется специальными символами\n",
    "        if ('Форма' in s or 'форма' in s) and 'проведения' in s and (':' in s or '–' in s or '-' in s) and not fm:\n",
    "            form = get_name(s, i, lst, txt='проведения', allow_split=True)\n",
    "            fm = True\n",
    "        # или просто словами без каких либо грамматических разделов частей предложений\n",
    "        if ('Форма' in s or 'форма' in s) and 'проведения' in s and not fm:\n",
    "            if 'эмитента' in s:\n",
    "                form = get_name(s, i, lst, allow_split=True)\n",
    "            else:\n",
    "                form = get_name(s, i, lst, txt='собрания', allow_split=True)\n",
    "            fm = True\n",
    "        # если ничего не помогло, значит форма идет прямо после слова \"собрания\" в нужном токене\n",
    "        if ('Форма' in s or 'форма' in s) and 'собрания' in s and not fm:\n",
    "            form = get_name(s, i, lst, txt='собрания')\n",
    "            fm= True\n",
    "        # поиск с учетом заглавных букв занимает больше места без изменения смылса, проще их убирать\n",
    "        if 'збра' in s and 'овет' in s and 'директ' in s and not e_dir and 'аудит' not in s:\n",
    "            e_dir = True\n",
    "        # если в токене упоминается аудитор, то в нем нет списка совета директоров, \n",
    "        # кроме нескольки абсолютно не структурированных токенов, где текст идет вообще без разделов на части\n",
    "        if e_dir and 'Избрать' in s and 'овет' in s and 'ирект' in s and not f_dir and 'аудит' not in s:\n",
    "            # если найден список ФИО, то его нужно забрать либо по \":\"\n",
    "            if ':' in s:\n",
    "                if len(s.split(':')[-1]) > 2:\n",
    "                    list_dir.append(s.split(':')[-1])\n",
    "                # либо по перечислению\n",
    "                elif lst[i + 1].strip()[0].isdigit():\n",
    "                    s_dir = True\n",
    "                    idx = 1\n",
    "                    while s_dir:\n",
    "                        # список пополняется до \".\"\n",
    "                        list_dir.append(lst[i + idx])\n",
    "                        if lst[i + idx].endswith('.'):\n",
    "                            s_dir = False\n",
    "                            f_dir = True\n",
    "                        idx += 1\n",
    "            else:\n",
    "                # если нет вообще никаких указателей, то берется вся нужная часть токена для пост-обработки\n",
    "                list_dir.append(s.split('директоров')[-1].strip())\n",
    "        # есть вариант разделения вообще без знаков препинания, \n",
    "        # тут только по слитной заглавной букве можно ограничить список\n",
    "        if e_dir and 'Избраны' in s and 'овет' in s and 'ирект' in s and not f_dir and 'аудит' not in s:\n",
    "            list_dir.append(s.split('директоров')[-1].strip())\n",
    "            list_dir[0] = list_dir[0].split('По')[0].split(':')[-1]\n",
    "        # если дивиденды упоминаются, значит их будут делить\n",
    "        if not e_div and 'ыплат' in s and 'дивиден' in s:\n",
    "            e_div = True\n",
    "        # если речь про дивиденды уже заходила\n",
    "        if e_div:\n",
    "            # то надо искать выплаты или не выплаты, в больгинстве случаев все прямолинейно\n",
    "            if 'ивиден' in s and ('не выпла' in s or 'не пла' in s or 'не утв' in s or 'не распр' in s or 'убыт' in s):\n",
    "                div_status = 'принято решение не выплачивать дивиденды'\n",
    "            # но не всегда, тогда можно смотреть на расстояние между дивидендами и отрицанием\n",
    "            elif 'ивиден' in s and 'не' in s:\n",
    "                # 30 символов вполне разменая черта (в среднем, слово ~ 7-8 символов)\n",
    "                if (s.index('ивиден') < s.index('не') + 30):\n",
    "                    div_status = 'принято решение выплатить дивиденды'\n",
    "        # про аудиторов везде написано одинаково\n",
    "        if ('Утв' in s or 'утв' in s) and ('аудит' in s or 'Аудит' in s):\n",
    "            e_audit = True\n",
    "        # если утвердили, значит нужно искать организацию\n",
    "        if e_audit:\n",
    "            if 'Утв' in s and 'аудит' in s:\n",
    "                audit_status = form_audit(s)\n",
    "    # если про аудиторов ничего не известно, то вопрос не поднимался, раз даже упоминаний нет\n",
    "    # если же аудитора нашли, то можно попробовать забрать ИНН и тип отчетности, они рядом находятся\n",
    "    # просто в рандомной последовательности\n",
    "    if e_audit and audit_status != None:\n",
    "        auditor, aud_inn, aud_acc = audit_status\n",
    "        if auditor == 0 or auditor == '0':\n",
    "            auditor, aud_inn, aud_acc = 'вопрос не поднимался', 'вопрос не поднимался', 'вопрос не поднимался'\n",
    "    elif not e_audit:\n",
    "        auditor, aud_inn, aud_acc = 'вопрос не поднимался', 'вопрос не поднимался', 'вопрос не поднимался'\n",
    "    else:\n",
    "        auditor, aud_inn, aud_acc = 'вопрос не поднимался', 'вопрос не поднимался', 'вопрос не поднимался'\n",
    "    # если дивиденды не упоминалсиь, то и решения про них не было\n",
    "    if e_div and div_status is None:\n",
    "        div_status = 'принято решение выплатить дивиденды'\n",
    "    elif not e_div:\n",
    "        div_status = 'вопрос не поднимался'\n",
    "    # если не удалось найти специальные токены присутствия, то вариант всего один - заочное голосование\n",
    "    if not fm:\n",
    "        form = 'заочное голосование'\n",
    "    # форматирование даты\n",
    "    date = form_date(date)\n",
    "    # форматирование токена с формой собрания\n",
    "    form = form_form(form)\n",
    "    # форматирование списка директоров\n",
    "    list_dir = form_dir(list_dir)\n",
    "    # если совет директоров упоминается и список не пустой (а есть сообщения, где Совет есть, а списка нет),\n",
    "    # то обрабатываем его и приводим к строке\n",
    "    if e_dir and len(list_dir) > 0:\n",
    "        director = format_dir(list_dir)\n",
    "    else:\n",
    "        director = 'вопрос не поднимался'\n",
    "    # помещаем все в карточку и выводим ее\n",
    "    return {\n",
    "        'полное наименование': full,\n",
    "        'сокращенное наименование': short,\n",
    "        'адрес': address,\n",
    "        'ИНН': inn,\n",
    "        'ОГРН': ogrn,\n",
    "        'дата собрания': date,\n",
    "        'форма собрания': form,\n",
    "        'наименование аудитора': auditor,\n",
    "        'ИНН аудитора': aud_inn,\n",
    "        'тип отчетности': aud_acc,\n",
    "        'состав совета директоров': director,\n",
    "        'выплата дивидендов': div_status\n",
    "    }"
   ]
  },
  {
   "cell_type": "markdown",
   "id": "f7d75d59",
   "metadata": {},
   "source": [
    "Применение главной функции ко всем сообщениям с сохранением карточек в списке"
   ]
  },
  {
   "cell_type": "code",
   "execution_count": 33,
   "id": "ee129432",
   "metadata": {},
   "outputs": [
    {
     "data": {
      "application/vnd.jupyter.widget-view+json": {
       "model_id": "1dc548fef8ff42ed828fdb7aae1dd5e4",
       "version_major": 2,
       "version_minor": 0
      },
      "text/plain": [
       "  0%|          | 0/531 [00:00<?, ?it/s]"
      ]
     },
     "metadata": {},
     "output_type": "display_data"
    }
   ],
   "source": [
    "arr = []\n",
    "for i in tqdm(range(texts.values.shape[0])):\n",
    "    addr = process(texts.values[i], i)\n",
    "    arr.append(addr)"
   ]
  },
  {
   "cell_type": "markdown",
   "id": "f468f0b3",
   "metadata": {},
   "source": [
    "Сводная таблица получившихся карточек"
   ]
  },
  {
   "cell_type": "code",
   "execution_count": 34,
   "id": "27acd3e8",
   "metadata": {},
   "outputs": [],
   "source": [
    "new_df = pd.DataFrame(arr)"
   ]
  },
  {
   "cell_type": "markdown",
   "id": "9ccca41b",
   "metadata": {},
   "source": [
    "Объединение с изначальной таблицей сообщений"
   ]
  },
  {
   "cell_type": "code",
   "execution_count": 35,
   "id": "e8b22463",
   "metadata": {},
   "outputs": [],
   "source": [
    "res_df = pd.concat([df.reset_index(drop=True), new_df], axis=1)"
   ]
  },
  {
   "cell_type": "markdown",
   "id": "5d6fb220",
   "metadata": {},
   "source": [
    "Удаление ненужных столбцов"
   ]
  },
  {
   "cell_type": "code",
   "execution_count": 36,
   "id": "b2ef8bca",
   "metadata": {},
   "outputs": [],
   "source": [
    "res_df = res_df.drop(columns=['entity', 'entity_page_link', 'event', 'event_page_link'])"
   ]
  },
  {
   "cell_type": "markdown",
   "id": "88dfb136",
   "metadata": {},
   "source": [
    "Унификация наименований столбцов"
   ]
  },
  {
   "cell_type": "code",
   "execution_count": 37,
   "id": "310d6d8f",
   "metadata": {},
   "outputs": [],
   "source": [
    "res_df = res_df.rename(columns={'registration_date': 'дата регистрации сообщения', 'text': 'текст сообщения'})"
   ]
  },
  {
   "cell_type": "markdown",
   "id": "ce11781e",
   "metadata": {},
   "source": [
    "Вывод первых пяти строк-сообщений"
   ]
  },
  {
   "cell_type": "code",
   "execution_count": 67,
   "id": "09ba63ca",
   "metadata": {
    "scrolled": true
   },
   "outputs": [
    {
     "data": {
      "text/html": [
       "<div>\n",
       "<style scoped>\n",
       "    .dataframe tbody tr th:only-of-type {\n",
       "        vertical-align: middle;\n",
       "    }\n",
       "\n",
       "    .dataframe tbody tr th {\n",
       "        vertical-align: top;\n",
       "    }\n",
       "\n",
       "    .dataframe thead th {\n",
       "        text-align: right;\n",
       "    }\n",
       "</style>\n",
       "<table border=\"1\" class=\"dataframe\">\n",
       "  <thead>\n",
       "    <tr style=\"text-align: right;\">\n",
       "      <th></th>\n",
       "      <th>дата регистрации сообщения</th>\n",
       "      <th>текст сообщения</th>\n",
       "      <th>полное наименование</th>\n",
       "      <th>сокращенное наименование</th>\n",
       "      <th>адрес</th>\n",
       "      <th>ИНН</th>\n",
       "      <th>ОГРН</th>\n",
       "      <th>дата собрания</th>\n",
       "      <th>форма собрания</th>\n",
       "      <th>наименование аудитора</th>\n",
       "      <th>ИНН аудитора</th>\n",
       "      <th>тип отчетности</th>\n",
       "      <th>состав совета директоров</th>\n",
       "      <th>выплата дивидендов</th>\n",
       "    </tr>\n",
       "  </thead>\n",
       "  <tbody>\n",
       "    <tr>\n",
       "      <th>0</th>\n",
       "      <td>30.09.2020 19:58</td>\n",
       "      <td>Сообщение о существенном факте о проведении об...</td>\n",
       "      <td>Публичное акционерное общество «Бест Эффортс Б...</td>\n",
       "      <td>ПАО «Бест Эффортс Банк»</td>\n",
       "      <td>Российская Федерация, город Москва</td>\n",
       "      <td>7831000034</td>\n",
       "      <td>1037700041323</td>\n",
       "      <td>30.09.2010</td>\n",
       "      <td>заочное голосование</td>\n",
       "      <td>Утвердить Общество с ограниченной ответственно...</td>\n",
       "      <td>не указан</td>\n",
       "      <td>не указан</td>\n",
       "      <td>Жизненко Олег Михайлович, Бурдонова Марина Пав...</td>\n",
       "      <td>принято решение не выплачивать дивиденды</td>\n",
       "    </tr>\n",
       "    <tr>\n",
       "      <th>1</th>\n",
       "      <td>30.09.2020 19:54</td>\n",
       "      <td>Решения общих собраний участников (акционеров)...</td>\n",
       "      <td>Закрытое акционерное общество Агрофирма \"Нива\"</td>\n",
       "      <td>ЗАО Агрофирма \"Нива\"</td>\n",
       "      <td>140090, Московская область, г. Дзержинский, ул...</td>\n",
       "      <td>5027028404</td>\n",
       "      <td>1035010951722</td>\n",
       "      <td>30.09.2020</td>\n",
       "      <td>заочное голосование</td>\n",
       "      <td>Общество с ограниченной ответственностью «Конс...</td>\n",
       "      <td>не указан</td>\n",
       "      <td>не указан</td>\n",
       "      <td>Данкверт Юлия Сергеевна, Мишин Роман Александр...</td>\n",
       "      <td>принято решение выплатить дивиденды</td>\n",
       "    </tr>\n",
       "    <tr>\n",
       "      <th>2</th>\n",
       "      <td>30.09.2020 19:46</td>\n",
       "      <td>Решения общих собраний участников (акционеров)...</td>\n",
       "      <td>Открытое акционерное общество по строительству...</td>\n",
       "      <td>ОАО \"ДОРСТРОЙ\"</td>\n",
       "      <td>347800, Ростовская область, г. Каменск-Шахтинс...</td>\n",
       "      <td>6147002495</td>\n",
       "      <td>1026102107008</td>\n",
       "      <td>30.09.2020</td>\n",
       "      <td>совместное присутствие</td>\n",
       "      <td>Общество с ограниченной ответственностью «Аудит»</td>\n",
       "      <td>6147005739</td>\n",
       "      <td>не указан</td>\n",
       "      <td>Имедашвили Николая Гивиевича, Кирсанова Владим...</td>\n",
       "      <td>принято решение не выплачивать дивиденды</td>\n",
       "    </tr>\n",
       "    <tr>\n",
       "      <th>3</th>\n",
       "      <td>30.09.2020 19:24</td>\n",
       "      <td>Решения общих собраний участников (акционеров)...</td>\n",
       "      <td>Общество с ограниченной ответственностью «Комп...</td>\n",
       "      <td>ООО КСН «Структурные инвестиции 1»</td>\n",
       "      <td>125171, Российская Федерация, г. Москва, Ленин...</td>\n",
       "      <td>7743928024</td>\n",
       "      <td>1147746610725</td>\n",
       "      <td>30.09.2020</td>\n",
       "      <td>совместное присутствие</td>\n",
       "      <td>вопрос не поднимался</td>\n",
       "      <td>вопрос не поднимался</td>\n",
       "      <td>вопрос не поднимался</td>\n",
       "      <td>вопрос не поднимался</td>\n",
       "      <td>вопрос не поднимался</td>\n",
       "    </tr>\n",
       "    <tr>\n",
       "      <th>4</th>\n",
       "      <td>30.09.2020 19:12</td>\n",
       "      <td>Решения общих собраний участников (акционеров)...</td>\n",
       "      <td>Открытое акционерное общество \"КАНАТ\"</td>\n",
       "      <td>ОАО \"КАНАТ\"</td>\n",
       "      <td>Россия, Санкт-Петербург, 197110, Петровский пр...</td>\n",
       "      <td>7813054069</td>\n",
       "      <td>1027806857693</td>\n",
       "      <td>28.09.2020</td>\n",
       "      <td>заочное голосование</td>\n",
       "      <td>ООО «Агентство «Бизнес-Проект»</td>\n",
       "      <td>не указан</td>\n",
       "      <td>не указан</td>\n",
       "      <td>вопрос не поднимался</td>\n",
       "      <td>вопрос не поднимался</td>\n",
       "    </tr>\n",
       "  </tbody>\n",
       "</table>\n",
       "</div>"
      ],
      "text/plain": [
       "  дата регистрации сообщения  \\\n",
       "0           30.09.2020 19:58   \n",
       "1           30.09.2020 19:54   \n",
       "2           30.09.2020 19:46   \n",
       "3           30.09.2020 19:24   \n",
       "4           30.09.2020 19:12   \n",
       "\n",
       "                                     текст сообщения  \\\n",
       "0  Сообщение о существенном факте о проведении об...   \n",
       "1  Решения общих собраний участников (акционеров)...   \n",
       "2  Решения общих собраний участников (акционеров)...   \n",
       "3  Решения общих собраний участников (акционеров)...   \n",
       "4  Решения общих собраний участников (акционеров)...   \n",
       "\n",
       "                                 полное наименование  \\\n",
       "0  Публичное акционерное общество «Бест Эффортс Б...   \n",
       "1     Закрытое акционерное общество Агрофирма \"Нива\"   \n",
       "2  Открытое акционерное общество по строительству...   \n",
       "3  Общество с ограниченной ответственностью «Комп...   \n",
       "4              Открытое акционерное общество \"КАНАТ\"   \n",
       "\n",
       "             сокращенное наименование  \\\n",
       "0             ПАО «Бест Эффортс Банк»   \n",
       "1                ЗАО Агрофирма \"Нива\"   \n",
       "2                      ОАО \"ДОРСТРОЙ\"   \n",
       "3  ООО КСН «Структурные инвестиции 1»   \n",
       "4                         ОАО \"КАНАТ\"   \n",
       "\n",
       "                                               адрес         ИНН  \\\n",
       "0                 Российская Федерация, город Москва  7831000034   \n",
       "1  140090, Московская область, г. Дзержинский, ул...  5027028404   \n",
       "2  347800, Ростовская область, г. Каменск-Шахтинс...  6147002495   \n",
       "3  125171, Российская Федерация, г. Москва, Ленин...  7743928024   \n",
       "4  Россия, Санкт-Петербург, 197110, Петровский пр...  7813054069   \n",
       "\n",
       "            ОГРН дата собрания          форма собрания  \\\n",
       "0  1037700041323    30.09.2010     заочное голосование   \n",
       "1  1035010951722    30.09.2020     заочное голосование   \n",
       "2  1026102107008    30.09.2020  совместное присутствие   \n",
       "3  1147746610725    30.09.2020  совместное присутствие   \n",
       "4  1027806857693    28.09.2020     заочное голосование   \n",
       "\n",
       "                               наименование аудитора          ИНН аудитора  \\\n",
       "0  Утвердить Общество с ограниченной ответственно...             не указан   \n",
       "1  Общество с ограниченной ответственностью «Конс...             не указан   \n",
       "2   Общество с ограниченной ответственностью «Аудит»            6147005739   \n",
       "3                               вопрос не поднимался  вопрос не поднимался   \n",
       "4                     ООО «Агентство «Бизнес-Проект»             не указан   \n",
       "\n",
       "         тип отчетности                           состав совета директоров  \\\n",
       "0             не указан  Жизненко Олег Михайлович, Бурдонова Марина Пав...   \n",
       "1             не указан  Данкверт Юлия Сергеевна, Мишин Роман Александр...   \n",
       "2             не указан  Имедашвили Николая Гивиевича, Кирсанова Владим...   \n",
       "3  вопрос не поднимался                               вопрос не поднимался   \n",
       "4             не указан                               вопрос не поднимался   \n",
       "\n",
       "                         выплата дивидендов  \n",
       "0  принято решение не выплачивать дивиденды  \n",
       "1       принято решение выплатить дивиденды  \n",
       "2  принято решение не выплачивать дивиденды  \n",
       "3                      вопрос не поднимался  \n",
       "4                      вопрос не поднимался  "
      ]
     },
     "execution_count": 67,
     "metadata": {},
     "output_type": "execute_result"
    }
   ],
   "source": [
    "res_df.head()"
   ]
  },
  {
   "cell_type": "markdown",
   "id": "3bbd65d2",
   "metadata": {},
   "source": [
    "Сохранение результата в Excel-таблице"
   ]
  },
  {
   "cell_type": "code",
   "execution_count": 39,
   "id": "1a97a114",
   "metadata": {},
   "outputs": [],
   "source": [
    "res_df.to_excel('Сообщения о раскрытии.xlsx', index=False)"
   ]
  },
  {
   "cell_type": "markdown",
   "id": "89dd3bc2",
   "metadata": {},
   "source": [
    "Сохранение результата в CSV-таблице"
   ]
  },
  {
   "cell_type": "code",
   "execution_count": 40,
   "id": "77c0124d",
   "metadata": {},
   "outputs": [],
   "source": [
    "res_df.to_csv('Сообщения о раскрытии.csv', index=False)"
   ]
  },
  {
   "cell_type": "markdown",
   "id": "9a4b2e7c",
   "metadata": {},
   "source": [
    "## Итог"
   ]
  },
  {
   "cell_type": "markdown",
   "id": "f010bc99",
   "metadata": {},
   "source": [
    "Rule-based подход, несмотря на свою кажущуюся простоту, содержит в себе ряд сложностей - получаемые \"правила\"-эвристики не инвариантны к изменениям входных данных. Но даже сам поиск отдельных правил может представлять из себя весьма не тривиальную задачу, сводящуюся к поиску кажущегося наиболее приемлемым решения, а затем дополнения его десятками строк исклчюений.\n",
    "\n",
    "Отдельно стоит отметить крайне слабую структурированность входных данных. Несмотря на кажущуюся упорядоченность по отдельным пунктам, абзацам и т.д., это вовсе не так. Из 518 сообщений всегда находилось сообщение, чье форматирование не вписывается в выведенные правила, что заставляло искать новые решения, при этом не ломая уже достигнутые. Отдельные блоки информации уже после пункта 1.5 сообщения перестают быть детектируемыми по номерам или структурным показателям. Единственным способом становится вывод максимально универсальных эвристик для поиска семантических совпадений, выявления их грамматического и пунктуационного оформления и формализации в виде нового правила.\n",
    "\n",
    "Многие сообщения почти не содержат полезной для данного задания информации. Хотя гораздо сложнее было с сообщениями, в которых нужная информация либо отсутствует (совет директоров выбирался, но результатов мы вам не скажем), либо оформлена макисмально сбивающе (взятие названия юридического лица в разные кавечки: ООО «Рога и Копыта\", например). Это был сложный, но интересный опыт.\n",
    "\n",
    "Было реализовано очень много костылей. Возможно, часть из них можно убрать, используя регулярные выражения и циклы, чтобы не было постоянных повторов. Однако неоспоримый плюс данной реализации - скорость ее работы. 531 сообщение обрабатывается почти мгновенно. Если использовать более \"тяжелые\" методы, то скорость заметно просядет. Так, можно было бы еще применять лингвистические модели и библиотеки, например nltk, для POS разметки и упрощения некоторых операций. "
   ]
  },
  {
   "cell_type": "markdown",
   "id": "fcc6a9ba",
   "metadata": {},
   "source": [
    " "
   ]
  }
 ],
 "metadata": {
  "kernelspec": {
   "display_name": "Python 3 (ipykernel)",
   "language": "python",
   "name": "python3"
  },
  "language_info": {
   "codemirror_mode": {
    "name": "ipython",
    "version": 3
   },
   "file_extension": ".py",
   "mimetype": "text/x-python",
   "name": "python",
   "nbconvert_exporter": "python",
   "pygments_lexer": "ipython3",
   "version": "3.8.6"
  }
 },
 "nbformat": 4,
 "nbformat_minor": 5
}
